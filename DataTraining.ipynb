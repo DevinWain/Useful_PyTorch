{
 "cells": [
  {
   "cell_type": "code",
   "execution_count": 1,
   "metadata": {},
   "outputs": [],
   "source": [
    "import torch\n",
    "from torch import nn, optim\n",
    "from torchvision import datasets, transforms\n",
    "from torch.utils.data import DataLoader\n",
    "import numpy as np\n",
    "import matplotlib.pyplot as plt"
   ]
  },
  {
   "cell_type": "code",
   "execution_count": 7,
   "metadata": {},
   "outputs": [],
   "source": [
    "class Tester():\n",
    "    # 本类用于图像测试，提供正确数、已测试数、错误索引列表、错误预测值列表、\n",
    "    # 错误对应字典供外部使用，同时train函数要传入模型、测试集、过程打印次数（默认6）\n",
    "    \n",
    "    def __init__(self):\n",
    "        device = torch.device('cuda' if torch.cuda.is_available() else 'cpu')\n",
    "        model.eval()\n",
    "        self.eval_acc = 0\n",
    "        self.tested_num = 0\n",
    "        self.error_list=[]\n",
    "        self.wrong_pred=[]\n",
    "        self.wrong_dict={}\n",
    "        self.loss_list=[]\n",
    "        self.acc_list=[]\n",
    "        \n",
    "    def test(self, model, test_loader, print_interval=6):\n",
    "        for num, data in enumerate(test_loader): \n",
    "            img, label = data\n",
    "            label = label.long().to(device)   # load the testing data\n",
    "            img = img.to(device)\n",
    "\n",
    "            out = model(img)\n",
    "            loss = model.criterion(out, label)  # forward\n",
    "\n",
    "            _, pred = torch.max(out ,1)   # get the results\n",
    "\n",
    "            # the wrong-predicted number\n",
    "            self.wrong_pred.extend([pred[i].data.item() for i in range(len(pred)) if pred[i]!=label[i]])\n",
    "            # the index of the wrong prediction\n",
    "            self.error_list.extend([ i+self.tested_num for i in range(len(pred)) if pred[i]!=label[i] ])\n",
    "            self.loss_list.extend([loss.data.item()])\n",
    "           \n",
    "            num_correct = (pred == label).sum()    # count the correct numbers\n",
    "            self.tested_num += label.cpu().numpy().size  # count the tested numbers\n",
    "            self.eval_acc += num_correct.data.item()    # calculate the accuracy\n",
    "            self.acc_list.extend([self.eval_acc/ self.tested_num])\n",
    "            \n",
    "            if( num % int(len(test_loader.dataset)/((print_interval-1)*test_loader.batch_size)) == 0 ):\n",
    "                print('tested: {}/{}'.format(self.tested_num, len(test_loader.dataset)))\n",
    "                print('loss is {} '.format(loss.data.item()))\n",
    "                print('acc is {} '.format(self.eval_acc/ self.tested_num))\n",
    "                print('')\n",
    "        \n",
    "        self.wrong_dict = dict(zip(self.error_list, self.wrong_pred))\n",
    "        print(\"Total acc is {}\".format(self.eval_acc/ self.tested_num))\n",
    "        \n",
    "    def print_error_list(self):\n",
    "        print(self.error_list)\n",
    "        \n",
    "    def print_wrong_pred(self):\n",
    "        print(self.wrong_pred)\n",
    "        \n",
    "    def loss(self):\n",
    "        plt.figure(figsize=(10,6))\n",
    "        plt.plot(range(len(self.loss_list)), self.loss_list, 'bo')\n",
    "        plt.grid(True)\n",
    "        plt.title(\"Convergence of Loss Function\")\n",
    "        plt.xlabel(\"Iteration number\")\n",
    "        plt.ylabel(\"Cost function\")\n",
    "        # dummy = plt.xlim([-0.05*epoch,1.05*epoch])\n",
    "        # dummy = plt.ylim([7,45])\n",
    "        \n",
    "    def accuracy(self):\n",
    "        plt.figure(figsize=(10,6))\n",
    "        plt.plot(range(len(self.acc_list)), self.acc_list, 'ro')\n",
    "        plt.grid(True)\n",
    "        plt.title(\"Distribution of Accuracy\")\n",
    "        plt.xlabel(\"Iteration number\")\n",
    "        plt.ylabel(\"Accuracy\")\n",
    "        # dummy = plt.xlim([-0.05*epoch,1.05*epoch])\n",
    "        # dummy = plt.ylim([7,45])\n"
   ]
  },
  {
   "cell_type": "code",
   "execution_count": 46,
   "metadata": {},
   "outputs": [],
   "source": [
    "class Trainer():\n",
    "    # 本类用于图像测试，提供正确数、已测试数、错误索引列表、错误预测值列表、\n",
    "    # 错误对应字典供外部使用，同时train函数要传入模型、测试集、过程打印次数（默认6）\n",
    "    \n",
    "    def __init__(self):\n",
    "        device = torch.device('cuda' if torch.cuda.is_available() else 'cpu')\n",
    "        model.train()\n",
    "        self.eval_acc = 0\n",
    "        self.trained_num = 0\n",
    "        self.loss_list=[]\n",
    "        self.acc_list=[]\n",
    "        \n",
    "    def train(self, model, train_loader, epochs=1, print_interval=6):\n",
    "        for e in range(epochs):\n",
    "            self.trained_num=0\n",
    "            self.eval_acc=0\n",
    "            print('epoch: {}'.format(e+1))\n",
    "            for num, data in enumerate(train_loader): \n",
    "                img, label = data\n",
    "                label = label.long().to(device)   # load the testing data\n",
    "                img = img.to(device)\n",
    "\n",
    "                out = model(img)\n",
    "                loss = model.criterion(out, label)  # forward\n",
    "                \n",
    "                model.optimizer.zero_grad()\n",
    "                loss.backward()\n",
    "                model.optimizer.step()    # backward\n",
    "\n",
    "                _, pred = torch.max(out ,1)   # get the results\n",
    "\n",
    "                num_correct = (pred == label).sum()    # count the correct numbers\n",
    "                self.trained_num += label.cpu().numpy().size  # count the tested numbers\n",
    "                self.eval_acc += num_correct.data.item()    # calculate the accuracy\n",
    "                self.acc_list.extend([self.eval_acc/ self.trained_num])\n",
    "                self.loss_list.extend([loss.data.item()])\n",
    "\n",
    "                if( num % int(len(train_loader.dataset)/((print_interval-1)*train_loader.batch_size)) == 0 ):\n",
    "                    print('trained: {}/{}'.format(self.trained_num, len(train_loader.dataset)))\n",
    "                    print('loss is {} '.format(loss.data.item()))\n",
    "                    print('acc is {} '.format(self.eval_acc/ self.trained_num))\n",
    "                    print('')\n",
    "            \n",
    "            print(\"Total acc is {}\".format(self.eval_acc/ self.trained_num))\n",
    "   \n",
    "    def loss(self):\n",
    "        plt.figure(figsize=(10,6))\n",
    "        plt.plot(range(len(self.loss_list)), self.loss_list, 'bo')\n",
    "        plt.grid(True)\n",
    "        plt.title(\"Convergence of Loss Function\")\n",
    "        plt.xlabel(\"Iteration number\")\n",
    "        plt.ylabel(\"Cost function\")\n",
    "        # dummy = plt.xlim([-0.05*epoch,1.05*epoch])\n",
    "        # dummy = plt.ylim([7,45])\n",
    "        \n",
    "    def accuracy(self):\n",
    "        plt.figure(figsize=(10,6))\n",
    "        plt.plot(range(len(self.acc_list)), self.acc_list, 'ro')\n",
    "        plt.grid(True)\n",
    "        plt.title(\"Distribution of Accuracy\")\n",
    "        plt.xlabel(\"Iteration number\")\n",
    "        plt.ylabel(\"Accuracy\")\n",
    "        # dummy = plt.xlim([-0.05*epoch,1.05*epoch])\n",
    "        # dummy = plt.ylim([7,45])\n",
    "        \n",
    "    def save(self, file_name='./model_state1.pth'):\n",
    "        torch.save(model.state_dict(), file_name)\n"
   ]
  },
  {
   "cell_type": "code",
   "execution_count": 47,
   "metadata": {},
   "outputs": [],
   "source": [
    "class CNN( nn.Module ):\n",
    "    def __init__(self):\n",
    "        super(CNN, self).__init__()\n",
    "        self.layer1 = nn.Sequential(\n",
    "            nn.Conv2d(1, 16, kernel_size = 3),  # 26*26*16\n",
    "            nn.BatchNorm2d(16),\n",
    "            nn.ReLU(inplace=True))\n",
    "        self.layer2 = nn.Sequential(\n",
    "            nn.Conv2d(16, 32, kernel_size = 3),  # 24*24*32\n",
    "            nn.BatchNorm2d(32),\n",
    "            nn.ReLU(inplace=True),\n",
    "            nn.MaxPool2d(kernel_size=2, stride=2)) # 12*12*32\n",
    "        self.layer3 = nn.Sequential(\n",
    "            nn.Conv2d(32, 64, kernel_size = 3),  # 10*10*64\n",
    "            nn.BatchNorm2d(64),\n",
    "            nn.ReLU(inplace=True))\n",
    "        self.layer4 = nn.Sequential(\n",
    "            nn.Conv2d(64, 128, kernel_size = 3),  # 8*8*128\n",
    "            nn.BatchNorm2d(128),\n",
    "            nn.ReLU(inplace=True),\n",
    "            nn.MaxPool2d(kernel_size=2, stride=2))  # 4*4*128\n",
    "            \n",
    "        self.fc = nn.Sequential(\n",
    "            nn.Linear(128*4*4, 1024),\n",
    "            nn.ReLU(inplace = True),\n",
    "            nn.Linear(1024, 128),\n",
    "            nn.ReLU(inplace = True),\n",
    "            nn.Linear(128, 10))\n",
    "        \n",
    "    def forward(self, x):\n",
    "            x = self.layer1(x)\n",
    "            x = self.layer2(x)\n",
    "            x = self.layer3(x)\n",
    "            x = self.layer4(x)\n",
    "            x = x.view(x.size(0), -1)  # 每个批次中的每一个输入都拉成一个维度，这样N个输入就有N*（32*7*7）的输出即N*1568\n",
    "            x = self.fc(x)\n",
    "            return x\n",
    "    def set_criterion(self, criterion):\n",
    "        self.criterion = criterion\n",
    "    \n",
    "    def set_optimizer(self, optimizer):\n",
    "        self.optimizer = optimizer"
   ]
  },
  {
   "cell_type": "code",
   "execution_count": 48,
   "metadata": {},
   "outputs": [],
   "source": [
    "batch_size = 256\n",
    "learning_rate = 1e-2\n",
    "epochs = 5"
   ]
  },
  {
   "cell_type": "code",
   "execution_count": 49,
   "metadata": {},
   "outputs": [],
   "source": [
    "data_tf = transforms.Compose(\n",
    "    [transforms.ToTensor(),\n",
    "     transforms.Normalize([0.5], [0.5])])"
   ]
  },
  {
   "cell_type": "code",
   "execution_count": 50,
   "metadata": {},
   "outputs": [],
   "source": [
    "device = torch.device('cuda' if torch.cuda.is_available() else 'cpu')"
   ]
  },
  {
   "cell_type": "code",
   "execution_count": 51,
   "metadata": {},
   "outputs": [],
   "source": [
    "train_dataset = datasets.MNIST(\n",
    "    root='./data', train=True, \n",
    "    transform=data_tf, download=True )\n",
    "train_loader = DataLoader(train_dataset, batch_size=batch_size, shuffle=True)\n",
    "\n",
    "test_dataset = datasets.MNIST(\n",
    "    root='./data', train=False,\n",
    "    transform=data_tf, download=True)\n",
    "test_loader = DataLoader(test_dataset, batch_size=batch_size, shuffle=False)"
   ]
  },
  {
   "cell_type": "code",
   "execution_count": 52,
   "metadata": {},
   "outputs": [],
   "source": [
    "model = CNN().to(device)\n",
    "# model.load_state_dict(torch.load('model_state1.pth'))\n",
    "    \n",
    "model.set_criterion(nn.CrossEntropyLoss())\n",
    "model.set_optimizer(optim.Adam(model.parameters(), lr=learning_rate))"
   ]
  },
  {
   "cell_type": "code",
   "execution_count": 53,
   "metadata": {},
   "outputs": [
    {
     "name": "stdout",
     "output_type": "stream",
     "text": [
      "epoch: 1\n",
      "trained: 256/60000\n",
      "loss is 2.296675205230713 \n",
      "acc is 0.12890625 \n",
      "\n",
      "trained: 30208/60000\n",
      "loss is 0.09739945083856583 \n",
      "acc is 0.6867055084745762 \n",
      "\n",
      "trained: 60000/60000\n",
      "loss is 0.14552386105060577 \n",
      "acc is 0.8247166666666667 \n",
      "\n",
      "Total acc is 0.8247166666666667\n",
      "epoch: 2\n",
      "trained: 256/60000\n",
      "loss is 0.12292638421058655 \n",
      "acc is 0.94921875 \n",
      "\n",
      "trained: 30208/60000\n",
      "loss is 0.0892307236790657 \n",
      "acc is 0.9765293961864406 \n",
      "\n",
      "trained: 60000/60000\n",
      "loss is 0.13127897679805756 \n",
      "acc is 0.9775166666666667 \n",
      "\n",
      "Total acc is 0.9775166666666667\n",
      "epoch: 3\n",
      "trained: 256/60000\n",
      "loss is 0.08539851009845734 \n",
      "acc is 0.9765625 \n",
      "\n",
      "trained: 30208/60000\n",
      "loss is 0.08660118281841278 \n",
      "acc is 0.9850039724576272 \n",
      "\n",
      "trained: 60000/60000\n",
      "loss is 0.1624564677476883 \n",
      "acc is 0.9859833333333333 \n",
      "\n",
      "Total acc is 0.9859833333333333\n",
      "epoch: 4\n",
      "trained: 256/60000\n",
      "loss is 0.015888534486293793 \n",
      "acc is 0.99609375 \n",
      "\n",
      "trained: 30208/60000\n",
      "loss is 0.018261006101965904 \n",
      "acc is 0.9874205508474576 \n",
      "\n",
      "trained: 60000/60000\n",
      "loss is 0.07117073982954025 \n",
      "acc is 0.9871833333333333 \n",
      "\n",
      "Total acc is 0.9871833333333333\n",
      "epoch: 5\n",
      "trained: 256/60000\n",
      "loss is 0.019980672746896744 \n",
      "acc is 0.9921875 \n",
      "\n",
      "trained: 30208/60000\n",
      "loss is 0.02216179668903351 \n",
      "acc is 0.988380561440678 \n",
      "\n",
      "trained: 60000/60000\n",
      "loss is 0.03798920288681984 \n",
      "acc is 0.9895833333333334 \n",
      "\n",
      "Total acc is 0.9895833333333334\n"
     ]
    }
   ],
   "source": [
    "inputs = Trainer()\n",
    "inputs.train(model, train_loader, epochs, 3)"
   ]
  },
  {
   "cell_type": "code",
   "execution_count": 58,
   "metadata": {},
   "outputs": [
    {
     "data": {
      "image/png": "[encoded data removed]",
      "text/plain": [
       "<Figure size 720x432 with 1 Axes>"
      ]
     },
     "metadata": {
      "needs_background": "light"
     },
     "output_type": "display_data"
    }
   ],
   "source": [
    "inputs.accuracy()"
   ]
  },
  {
   "cell_type": "code",
   "execution_count": 60,
   "metadata": {},
   "outputs": [
    {
     "name": "stdout",
     "output_type": "stream",
     "text": [
      "tested: 256/10000\n",
      "loss is 0.029910005629062653 \n",
      "acc is 0.98828125 \n",
      "\n",
      "tested: 2048/10000\n",
      "loss is 0.051838114857673645 \n",
      "acc is 0.9833984375 \n",
      "\n",
      "tested: 3840/10000\n",
      "loss is 0.05697105824947357 \n",
      "acc is 0.9841145833333333 \n",
      "\n",
      "tested: 5632/10000\n",
      "loss is 0.001963285729289055 \n",
      "acc is 0.9849076704545454 \n",
      "\n",
      "tested: 7424/10000\n",
      "loss is 0.004537742584943771 \n",
      "acc is 0.9870689655172413 \n",
      "\n",
      "tested: 9216/10000\n",
      "loss is 0.0006924308836460114 \n",
      "acc is 0.9894748263888888 \n",
      "\n",
      "Total acc is 0.9896\n"
     ]
    }
   ],
   "source": [
    "result = Tester()\n",
    "result.test(model, test_loader)"
   ]
  },
  {
   "cell_type": "code",
   "execution_count": 63,
   "metadata": {},
   "outputs": [
    {
     "data": {
      "image/png": "[encoded data removed]",
      "text/plain": [
       "<Figure size 720x432 with 1 Axes>"
      ]
     },
     "metadata": {
      "needs_background": "light"
     },
     "output_type": "display_data"
    }
   ],
   "source": [
    "result.accuracy()"
   ]
  },
  {
   "cell_type": "code",
   "execution_count": 64,
   "metadata": {},
   "outputs": [],
   "source": [
    "inputs.save()  # save the parameters"
   ]
  },
  {
   "cell_type": "code",
   "execution_count": 65,
   "metadata": {},
   "outputs": [
    {
     "name": "stdout",
     "output_type": "stream",
     "text": [
      "4\n"
     ]
    },
    {
     "data": {
      "image/png": "[encoded data removed]",
      "text/plain": [
       "<Figure size 432x288 with 1 Axes>"
      ]
     },
     "metadata": {
      "needs_background": "light"
     },
     "output_type": "display_data"
    }
   ],
   "source": [
    "data, label = test_dataset[115]\n",
    "x = data.view(28,28)\n",
    "plt.imshow(x, cmap='gray')\n",
    "print(label)"
   ]
  },
  {
   "cell_type": "code",
   "execution_count": 66,
   "metadata": {},
   "outputs": [],
   "source": [
    "# 提取中间层结果\n",
    "class Layer_Hook:\n",
    "    count=0\n",
    "    def __init__(self, layer):\n",
    "        for module in layer.modules():\n",
    "            if isinstance(module, nn.Conv2d):\n",
    "                self.count = module.out_channels\n",
    "        self.hook = layer.register_forward_hook(self.hook_fn)\n",
    "    \n",
    "    def hook_fn(self, module, input, output):\n",
    "        self.features = output\n",
    "    \n",
    "    def remove(self):\n",
    "        self.hook.remove()"
   ]
  },
  {
   "cell_type": "code",
   "execution_count": 67,
   "metadata": {},
   "outputs": [
    {
     "data": {
      "image/png": "[encoded data removed]",
      "text/plain": [
       "<Figure size 1440x1440 with 64 Axes>"
      ]
     },
     "metadata": {},
     "output_type": "display_data"
    }
   ],
   "source": [
    "conv_out = Layer_Hook(model.layer3)\n",
    "img, label = test_dataset[151]\n",
    "label = torch.from_numpy(np.array(label))   # load the testing data\n",
    "img = img.view(1,1,28,28)    \n",
    "out = model(img.to(device))\n",
    "conv_out.remove()\n",
    "act = conv_out.features\n",
    "num = conv_out.count\n",
    "cols = 8\n",
    "\n",
    "fig = plt.figure(figsize=(20, 20))\n",
    "fig.subplots_adjust(left=0, right=1, bottom=0, top=0.8, hspace=0, wspace=0.2)\n",
    "for i in range(num):\n",
    "    ax = fig.add_subplot(int(num/cols)+1, cols, i+1, xticks=[], yticks=[])\n",
    "    ax.imshow(act[0][i].cpu().detach().numpy(), cmap='gray')"
   ]
  },
  {
   "cell_type": "code",
   "execution_count": null,
   "metadata": {},
   "outputs": [],
   "source": []
  }
 ],
 "metadata": {
  "kernelspec": {
   "display_name": "Python 3",
   "language": "python",
   "name": "python3"
  },
  "language_info": {
   "codemirror_mode": {
    "name": "ipython",
    "version": 3
   },
   "file_extension": ".py",
   "mimetype": "text/x-python",
   "name": "python",
   "nbconvert_exporter": "python",
   "pygments_lexer": "ipython3",
   "version": "3.7.5"
  }
 },
 "nbformat": 4,
 "nbformat_minor": 2
}
